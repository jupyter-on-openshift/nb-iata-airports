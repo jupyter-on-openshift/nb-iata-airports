{
 "cells": [
  {
   "cell_type": "markdown",
   "metadata": {},
   "source": [
    "# Notebook as a Service"
   ]
  },
  {
   "cell_type": "markdown",
   "metadata": {},
   "source": [
    "This notebook demonstrates how to make a REST API service out of a notebook.\n",
    "\n",
    "The example implements a geospatial data service for looking up airports with a IATA (International Air Transport Association) code. The service can provide the full list of airports, or queries can be restricted to a certain geographic region defined by a bounding box.\n",
    "\n",
    "To run the notebook as a service, the ``jupyter kernelgateway`` command should be used. The ``.jupyter/jupyter_kernel_gateway_config.py`` configuration file would need to define:\n",
    "\n",
    "```\n",
    "c.KernelGatewayApp.api = 'kernel_gateway.notebook_http'\n",
    "c.KernelGatewayApp.seed_uri = 'Airports.ipynb'\n",
    "```\n",
    "\n",
    "The ``KernelGatewayApp.api`` configuration is set to ``kernel_gateway.notebook_http`` to expose the notebook as a REST API service over HTTP. The ``KernelGatewayApp.seed_uri`` specifies the location of the notebook file."
   ]
  },
  {
   "cell_type": "markdown",
   "metadata": {},
   "source": [
    "## Required module imports"
   ]
  },
  {
   "cell_type": "code",
   "execution_count": null,
   "metadata": {},
   "outputs": [],
   "source": [
    "import os\n",
    "import json\n",
    "import pandas as pd\n",
    "import numpy as np\n",
    "import folium\n",
    "import folium.plugins"
   ]
  },
  {
   "cell_type": "markdown",
   "metadata": {},
   "source": [
    "## Flagging test functions"
   ]
  },
  {
   "cell_type": "markdown",
   "metadata": {},
   "source": [
    "Because we don't want certain code, such as test functions, to be executed when the notebook is loaded to be run as a service, define a decorator to mark code we only want run when interacting with the notebook. The decorator needs to be applied to a function. The function will be automatically called when the cell is run, so you don't need to add a separate call. The marked functions will not be run when the ``KERNEL_GATEWAY`` environment variable is set. This environment variable is automatically set when the notebook is run as a service."
   ]
  },
  {
   "cell_type": "code",
   "execution_count": null,
   "metadata": {},
   "outputs": [],
   "source": [
    "def execute_if_development(wrapped):\n",
    "    if 'KERNEL_GATEWAY' not in os.environ:\n",
    "        wrapped()\n",
    "    return wrapped"
   ]
  },
  {
   "cell_type": "markdown",
   "metadata": {},
   "source": [
    "## Preparing the airport data"
   ]
  },
  {
   "cell_type": "markdown",
   "metadata": {},
   "source": [
    "The airport data is downloaded when the notebook is run."
   ]
  },
  {
   "cell_type": "code",
   "execution_count": null,
   "metadata": {},
   "outputs": [],
   "source": [
    "def load_airport_data():\n",
    "    return pd.read_csv('http://ourairports.com/data/airports.csv')"
   ]
  },
  {
   "cell_type": "code",
   "execution_count": null,
   "metadata": {
    "scrolled": true
   },
   "outputs": [],
   "source": [
    "raw_airport_data = load_airport_data()"
   ]
  },
  {
   "cell_type": "markdown",
   "metadata": {},
   "source": [
    "For the service, only the airport name and location for airports with an IATA code is required. Entries with no IATA code are dropped, as are additional data fields the service doesn't require. Various columns are also renamed."
   ]
  },
  {
   "cell_type": "code",
   "execution_count": null,
   "metadata": {},
   "outputs": [],
   "source": [
    "def transform_airport_data(data=raw_airport_data):\n",
    "    data = data[['name', 'latitude_deg', 'longitude_deg', 'iata_code']]\n",
    "    data = data.rename(columns={'latitude_deg': 'latitude', 'longitude_deg': 'longitude'})\n",
    "    data = data.dropna(axis=0, how='all', subset=['iata_code'])\n",
    "    return data"
   ]
  },
  {
   "cell_type": "code",
   "execution_count": null,
   "metadata": {},
   "outputs": [],
   "source": [
    "@execute_if_development\n",
    "def dump_raw_airport_data():\n",
    "    display(raw_airport_data.head())\n",
    "    print('total rows =', len(raw_airport_data))"
   ]
  },
  {
   "cell_type": "markdown",
   "metadata": {},
   "source": [
    "The list of airports is stored in ``airport_data`` and can be accessed directly if details on all airports is required."
   ]
  },
  {
   "cell_type": "code",
   "execution_count": null,
   "metadata": {},
   "outputs": [],
   "source": [
    "airport_data = transform_airport_data()"
   ]
  },
  {
   "cell_type": "code",
   "execution_count": null,
   "metadata": {},
   "outputs": [],
   "source": [
    "@execute_if_development\n",
    "def dump_airport_data():\n",
    "    display(airport_data.head())\n",
    "    print('total rows =', len(airport_data))"
   ]
  },
  {
   "cell_type": "markdown",
   "metadata": {},
   "source": [
    "## Querying by bounding box"
   ]
  },
  {
   "cell_type": "markdown",
   "metadata": {},
   "source": [
    "When visualizing data where there is a large data set, it may not always be practical to load up all of the data. For data where entries are associated with a location defined by latitude and longitude, we can perform a geospational query, where we only request data with a location that falls within a specific bounding box. The bounding box is defined by the latitude and longitude for the lower left and upper right corners.\n",
    "\n",
    "The function implementing the bounding box query is ``airport_data_within_bbox()``."
   ]
  },
  {
   "cell_type": "code",
   "execution_count": null,
   "metadata": {},
   "outputs": [],
   "source": [
    "def airport_data_within_bbox(ll, ur, data=airport_data):\n",
    "    pts = data[['latitude','longitude']]\n",
    "    inbox = np.all(np.logical_and(np.array(ll) <= pts, pts <= np.array(ur)), axis=1)\n",
    "    return data[inbox]"
   ]
  },
  {
   "cell_type": "code",
   "execution_count": null,
   "metadata": {
    "scrolled": true
   },
   "outputs": [],
   "source": [
    "@execute_if_development\n",
    "def dump_airport_data_within_bbox(ll=[-35, 150], ur=[-33, 152]):\n",
    "    data = airport_data_within_bbox(ll, ur)\n",
    "    display(data.head())\n",
    "    print('total rows =', len(data))"
   ]
  },
  {
   "cell_type": "markdown",
   "metadata": {},
   "source": [
    "## Visualizing the airport data"
   ]
  },
  {
   "cell_type": "markdown",
   "metadata": {},
   "source": [
    "Using the ``folium`` package for Python, we can visualize the data on an actual map, and then navigate by zooming and panning within the data set resulting from the bounding box query. This capability is only available when interacting with the notebook. To expose the ability to query the data from other applications, we need turn the notebook into a REST API service."
   ]
  },
  {
   "cell_type": "code",
   "execution_count": null,
   "metadata": {
    "scrolled": true
   },
   "outputs": [],
   "source": [
    "@execute_if_development\n",
    "def map_airport_data_within_bbox(ll=[-35, 150], ur=[-33, 152]):\n",
    "    data = airport_data_within_bbox(ll, ur)\n",
    "\n",
    "    center = [data['latitude'].mean(), data['longitude'].mean()]\n",
    "    map = folium.Map(location=center, zoom_start=10)\n",
    "\n",
    "    locations = data[['latitude', 'longitude']].values.tolist()\n",
    "\n",
    "    folium.plugins.FastMarkerCluster(locations).add_to(map)\n",
    "\n",
    "    display(map)"
   ]
  },
  {
   "cell_type": "markdown",
   "metadata": {},
   "source": [
    "## Definining the REST API"
   ]
  },
  {
   "cell_type": "markdown",
   "metadata": {},
   "source": [
    "To expose the notebook as a REST API service, we need to define the URL endpoints the service should handle and the code which implements them. This includes marking up the type of response which is returned. For this service, the handlers will all return JSON. What code is associated with each URL handler is specified by special comments embedded at the start of a code cell.\n",
    "\n",
    "To facilitate testing of the code for each handler, we first need to declare a dummy request data. This will be overridden by the actual request data when the notebook is run as a service."
   ]
  },
  {
   "cell_type": "code",
   "execution_count": null,
   "metadata": {},
   "outputs": [],
   "source": [
    "REQUEST = json.dumps({\n",
    "    'path' : {},\n",
    "    'args' : {\n",
    "        'lat1': -35,\n",
    "        'lat2': -33,\n",
    "        'lon1': 150,\n",
    "        'lon2' : 152\n",
    "    }\n",
    "})"
   ]
  },
  {
   "cell_type": "markdown",
   "metadata": {},
   "source": [
    "The first URL handler is for ``/ws/info/`` and it returns some information about the data returned by the service. This exists as the service is being implemented to be compatible with an existing frontend application which will use the service, and which requires the information in this format."
   ]
  },
  {
   "cell_type": "code",
   "execution_count": null,
   "metadata": {},
   "outputs": [],
   "source": [
    "service_info = {\n",
    "    \"id\": \"iataairports\",\n",
    "    \"displayName\": \"IATA Airports\",\n",
    "    \"type\": \"cluster\",\n",
    "    \"center\": {\n",
    "        \"latitude\": \"-33.946\",\n",
    "        \"longitude\": \"151.17\"\n",
    "    },\n",
    "    \"zoom\": 8\n",
    "}"
   ]
  },
  {
   "cell_type": "code",
   "execution_count": null,
   "metadata": {},
   "outputs": [],
   "source": [
    "# GET /ws/info/\n",
    "print(json.dumps(service_info))"
   ]
  },
  {
   "cell_type": "code",
   "execution_count": null,
   "metadata": {
    "scrolled": true
   },
   "outputs": [],
   "source": [
    "# ResponseInfo GET /ws/info/\n",
    "print(json.dumps({\"headers\":{\"Content-Type\":\"application/json\"}}))"
   ]
  },
  {
   "cell_type": "markdown",
   "metadata": {},
   "source": [
    "The next URL handler is for ``/ws/data/all``. It returns data for all airports."
   ]
  },
  {
   "cell_type": "code",
   "execution_count": null,
   "metadata": {},
   "outputs": [],
   "source": [
    "# GET /ws/data/all\n",
    "result = airport_data[['name','latitude','longitude']]\n",
    "print(result.to_json(orient='records'))"
   ]
  },
  {
   "cell_type": "code",
   "execution_count": null,
   "metadata": {},
   "outputs": [],
   "source": [
    "# ResponseInfo GET /ws/data/all\n",
    "print(json.dumps({\"headers\":{\"Content-Type\":\"application/json\"}}))"
   ]
  },
  {
   "cell_type": "markdown",
   "metadata": {},
   "source": [
    "The final URL handler is ``/ws/data/within``. It returns data on airports within a specific bounding box. Request arguments are supplied by query string parameters. The ``lat1`` and ``lon1`` values specify the lower left corner of the bounding box. The ``lat2`` and ``lon2`` values specify the upper right corner."
   ]
  },
  {
   "cell_type": "code",
   "execution_count": null,
   "metadata": {},
   "outputs": [],
   "source": [
    "# GET /ws/data/within\n",
    "request = json.loads(REQUEST)\n",
    "ll = np.array([request['args']['lat1'], request['args']['lon1']])\n",
    "ur = np.array([request['args']['lat2'], request['args']['lon2']])\n",
    "result = airport_data_within_bbox(ll, ur)[['name','latitude','longitude']]\n",
    "print(result.to_json(orient='records'))"
   ]
  },
  {
   "cell_type": "code",
   "execution_count": null,
   "metadata": {},
   "outputs": [],
   "source": [
    "# ResponseInfo GET /ws/data/within\n",
    "print(json.dumps({\"headers\":{\"Content-Type\":\"application/json\"}}))"
   ]
  }
 ],
 "metadata": {
  "kernelspec": {
   "display_name": "Python 3",
   "language": "python",
   "name": "python3"
  },
  "language_info": {
   "codemirror_mode": {
    "name": "ipython",
    "version": 3
   },
   "file_extension": ".py",
   "mimetype": "text/x-python",
   "name": "python",
   "nbconvert_exporter": "python",
   "pygments_lexer": "ipython3",
   "version": "3.5.1"
  }
 },
 "nbformat": 4,
 "nbformat_minor": 2
}
